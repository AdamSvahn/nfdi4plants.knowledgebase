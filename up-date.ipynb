{
 "cells": [
  {
   "cell_type": "code",
   "execution_count": 40,
   "metadata": {
    "dotnet_interactive": {
     "language": "csharp"
    },
    "polyglot_notebook": {
     "kernelName": "csharp"
    }
   },
   "outputs": [
    {
     "name": "stdout",
     "output_type": "stream",
     "text": [
      "src/docs/DataHUB-Manual/datahub-userSettings.md\n"
     ]
    },
    {
     "ename": "KeyError",
     "evalue": "'layout'",
     "output_type": "error",
     "traceback": [
      "\u001b[0;31m---------------------------------------------------------------------------\u001b[0m",
      "\u001b[0;31mKeyError\u001b[0m                                  Traceback (most recent call last)",
      "Cell \u001b[0;32mIn[40], line 17\u001b[0m\n\u001b[1;32m     14\u001b[0m \u001b[39mprint\u001b[39m(markdown)\n\u001b[1;32m     16\u001b[0m \u001b[39m### Check that layout is \"docs\" (i.e. article)\u001b[39;00m\n\u001b[0;32m---> 17\u001b[0m \u001b[39mif\u001b[39;00m mdcontent\u001b[39m.\u001b[39;49mmetadata[\u001b[39m\"\u001b[39;49m\u001b[39mlayout\u001b[39;49m\u001b[39m\"\u001b[39;49m] \u001b[39m==\u001b[39m \u001b[39m\"\u001b[39m\u001b[39mdocs\u001b[39m\u001b[39m\"\u001b[39m:\n\u001b[1;32m     18\u001b[0m     \n\u001b[1;32m     19\u001b[0m     \u001b[39m### Read date of last update in ISO format\u001b[39;00m\n\u001b[1;32m     20\u001b[0m     lastupdate\u001b[39m=\u001b[39msh\u001b[39m.\u001b[39mgit\u001b[39m.\u001b[39mlog(\u001b[39m\"\u001b[39m\u001b[39m-n 1\u001b[39m\u001b[39m\"\u001b[39m, \u001b[39m\"\u001b[39m\u001b[39m--pretty=format:\u001b[39m\u001b[39m%c\u001b[39;00m\u001b[39ms\u001b[39m\u001b[39m\"\u001b[39m, markdown)\n\u001b[1;32m     21\u001b[0m     \u001b[39mprint\u001b[39m(lastupdate)       \n",
      "\u001b[0;31mKeyError\u001b[0m: 'layout'"
     ]
    }
   ],
   "source": [
    "import pathlib\n",
    "import frontmatter\n",
    "from io import BytesIO\n",
    "import sh\n",
    "\n",
    "mdpath = pathlib.Path(\"src/docs/DataHUB-Manual\")\n",
    "mdfiles = list(mdpath.rglob(\"*.md\"))\n",
    "\n",
    "for markdown in mdfiles:      \n",
    "\n",
    "    ### Load yaml frontmatter    \n",
    "    mdcontent = frontmatter.load(markdown)\n",
    "\n",
    "    print(markdown)\n",
    "    \n",
    "    ### Check that layout is \"docs\" (i.e. article)\n",
    "    if mdcontent.metadata[\"layout\"] == \"docs\":\n",
    "        \n",
    "        ### Read date of last update in ISO format\n",
    "        lastupdate=sh.git.log(\"-n 1\", \"--pretty=format:%cs\", markdown)\n",
    "        print(lastupdate)       \n",
    "\n",
    "        ### Replace date in yaml header\n",
    "        mdcontent.metadata[\"date\"] = lastupdate\n",
    "\n",
    "        ### Update markdown\n",
    "\n",
    "        with open(markdown, 'w') as f:\n",
    "            outmd = BytesIO()\n",
    "            frontmatter.dump(mdcontent, outmd, sort_keys=False)\n",
    "            print(outmd.getvalue().decode('utf-8'), file=f)"
   ]
  }
 ],
 "metadata": {
  "kernelspec": {
   "display_name": "dp-teaching",
   "language": "python",
   "name": "python3"
  },
  "language_info": {
   "codemirror_mode": {
    "name": "ipython",
    "version": 3
   },
   "file_extension": ".py",
   "mimetype": "text/x-python",
   "name": "python",
   "nbconvert_exporter": "python",
   "pygments_lexer": "ipython3",
   "version": "3.10.9"
  },
  "orig_nbformat": 4,
  "polyglot_notebook": {
   "kernelInfo": {
    "defaultKernelName": "csharp",
    "items": [
     {
      "aliases": [],
      "name": "csharp"
     }
    ]
   }
  }
 },
 "nbformat": 4,
 "nbformat_minor": 2
}
