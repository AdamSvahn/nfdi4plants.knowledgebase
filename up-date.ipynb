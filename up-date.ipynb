{
 "cells": [
  {
   "cell_type": "code",
   "execution_count": null,
   "metadata": {
    "dotnet_interactive": {
     "language": "csharp"
    },
    "polyglot_notebook": {
     "kernelName": "csharp"
    }
   },
   "outputs": [],
   "source": [
    "import pathlib\n",
    "import frontmatter\n",
    "from io import BytesIO\n",
    "import sh\n",
    "\n",
    "mdpath = pathlib.Path(\"src/docs/\")\n",
    "mdfiles = list(mdpath.rglob(\"*.md\"))\n",
    "\n",
    "for markdown in mdfiles:      \n",
    "\n",
    "    ### Load yaml frontmatter    \n",
    "    mdcontent = frontmatter.load(markdown)\n",
    "\n",
    "    print(markdown)\n",
    "    \n",
    "    ### Check that layout is \"docs\" (i.e. article)\n",
    "    if (\"layout\" in mdcontent.metadata) and mdcontent.metadata[\"layout\"] == \"docs\":\n",
    "        \n",
    "        ### Read date of last update in ISO format\n",
    "        lastupdate=sh.git.log(\"-n 1\", \"--pretty=format:%cs\", markdown)\n",
    "        print(lastupdate)       \n",
    "\n",
    "        ### Replace date in yaml header\n",
    "        mdcontent.metadata[\"date\"] = lastupdate\n",
    "\n",
    "        ### Update markdown\n",
    "\n",
    "        with open(markdown, 'w') as f:\n",
    "            outmd = BytesIO()\n",
    "            frontmatter.dump(mdcontent, outmd, sort_keys=False)\n",
    "            print(outmd.getvalue().decode('utf-8'), file=f)"
   ]
  }
 ],
 "metadata": {
  "kernelspec": {
   "display_name": "dp-teaching",
   "language": "python",
   "name": "python3"
  },
  "language_info": {
   "codemirror_mode": {
    "name": "ipython",
    "version": 3
   },
   "file_extension": ".py",
   "mimetype": "text/x-python",
   "name": "python",
   "nbconvert_exporter": "python",
   "pygments_lexer": "ipython3",
   "version": "3.10.9"
  },
  "orig_nbformat": 4,
  "polyglot_notebook": {
   "kernelInfo": {
    "defaultKernelName": "csharp",
    "items": [
     {
      "aliases": [],
      "name": "csharp"
     }
    ]
   }
  }
 },
 "nbformat": 4,
 "nbformat_minor": 2
}
